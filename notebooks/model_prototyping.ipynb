{
 "cells": [
  {
   "cell_type": "code",
   "execution_count": null,
   "metadata": {},
   "outputs": [],
   "source": [
    "from models.generative_model import build_vae\n",
    "from models.predictive_model import build_lstm\n",
    "\n",
    "vae = build_vae((28, 28, 1))\n",
    "vae.summary()\n",
    "\n",
    "lstm = build_lstm((10, 1))\n",
    "lstm.summary()\n",
    "\n",
    "# Example of model training can be added here"
   ]
  }
 ],
 "metadata": {
  "language_info": {
   "name": "python"
  }
 },
 "nbformat": 4,
 "nbformat_minor": 2
}
